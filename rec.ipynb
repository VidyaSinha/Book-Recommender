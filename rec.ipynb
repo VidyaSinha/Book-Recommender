{
 "cells": [
  {
   "cell_type": "code",
   "execution_count": null,
   "metadata": {},
   "outputs": [],
   "source": []
  },
  {
   "cell_type": "code",
   "execution_count": 3,
   "metadata": {},
   "outputs": [
    {
     "name": "stdout",
     "output_type": "stream",
     "text": [
      "                 track_id                                         track_name  \\\n",
      "0  6f807x0ima9a1j3VPbc7VN  I Don't Care (with Justin Bieber) - Loud Luxur...   \n",
      "1  0r7CVbZTWZgbTCYdfa2P31                    Memories - Dillon Francis Remix   \n",
      "2  1z1Hg7Vb0AhHDiEmnDE79l                    All the Time - Don Diablo Remix   \n",
      "3  75FpbthrwQmzHlBJLuGdC7                  Call You Mine - Keanu Silva Remix   \n",
      "4  1e8PAfcKUYoKkxPhrHqw4x            Someone You Loved - Future Humans Remix   \n",
      "\n",
      "       track_artist  track_popularity          track_album_id  \\\n",
      "0        Ed Sheeran                66  2oCs0DGTsRO98Gh5ZSl2Cx   \n",
      "1          Maroon 5                67  63rPSO264uRjW1X5E6cWv6   \n",
      "2      Zara Larsson                70  1HoSmj2eLcsrR0vE9gThr4   \n",
      "3  The Chainsmokers                60  1nqYsOef1yKKuGOVchbsk6   \n",
      "4     Lewis Capaldi                69  7m7vv9wlQ4i0LFuJiE2zsQ   \n",
      "\n",
      "                                    track_album_name track_album_release_date  \\\n",
      "0  I Don't Care (with Justin Bieber) [Loud Luxury...               2019-06-14   \n",
      "1                    Memories (Dillon Francis Remix)               2019-12-13   \n",
      "2                    All the Time (Don Diablo Remix)               2019-07-05   \n",
      "3                        Call You Mine - The Remixes               2019-07-19   \n",
      "4            Someone You Loved (Future Humans Remix)               2019-03-05   \n",
      "\n",
      "  playlist_name             playlist_id playlist_genre  ... key  loudness  \\\n",
      "0     Pop Remix  37i9dQZF1DXcZDD7cfEKhW            pop  ...   6    -2.634   \n",
      "1     Pop Remix  37i9dQZF1DXcZDD7cfEKhW            pop  ...  11    -4.969   \n",
      "2     Pop Remix  37i9dQZF1DXcZDD7cfEKhW            pop  ...   1    -3.432   \n",
      "3     Pop Remix  37i9dQZF1DXcZDD7cfEKhW            pop  ...   7    -3.778   \n",
      "4     Pop Remix  37i9dQZF1DXcZDD7cfEKhW            pop  ...   1    -4.672   \n",
      "\n",
      "   mode  speechiness  acousticness  instrumentalness  liveness  valence  \\\n",
      "0     1       0.0583        0.1020          0.000000    0.0653    0.518   \n",
      "1     1       0.0373        0.0724          0.004210    0.3570    0.693   \n",
      "2     0       0.0742        0.0794          0.000023    0.1100    0.613   \n",
      "3     1       0.1020        0.0287          0.000009    0.2040    0.277   \n",
      "4     1       0.0359        0.0803          0.000000    0.0833    0.725   \n",
      "\n",
      "     tempo  duration_ms  \n",
      "0  122.036       194754  \n",
      "1   99.972       162600  \n",
      "2  124.008       176616  \n",
      "3  121.956       169093  \n",
      "4  123.976       189052  \n",
      "\n",
      "[5 rows x 23 columns]\n",
      "<class 'pandas.core.frame.DataFrame'>\n",
      "RangeIndex: 32833 entries, 0 to 32832\n",
      "Data columns (total 23 columns):\n",
      " #   Column                    Non-Null Count  Dtype  \n",
      "---  ------                    --------------  -----  \n",
      " 0   track_id                  32833 non-null  object \n",
      " 1   track_name                32828 non-null  object \n",
      " 2   track_artist              32828 non-null  object \n",
      " 3   track_popularity          32833 non-null  int64  \n",
      " 4   track_album_id            32833 non-null  object \n",
      " 5   track_album_name          32828 non-null  object \n",
      " 6   track_album_release_date  32833 non-null  object \n",
      " 7   playlist_name             32833 non-null  object \n",
      " 8   playlist_id               32833 non-null  object \n",
      " 9   playlist_genre            32833 non-null  object \n",
      " 10  playlist_subgenre         32833 non-null  object \n",
      " 11  danceability              32833 non-null  float64\n",
      " 12  energy                    32833 non-null  float64\n",
      " 13  key                       32833 non-null  int64  \n",
      " 14  loudness                  32833 non-null  float64\n",
      " 15  mode                      32833 non-null  int64  \n",
      " 16  speechiness               32833 non-null  float64\n",
      " 17  acousticness              32833 non-null  float64\n",
      " 18  instrumentalness          32833 non-null  float64\n",
      " 19  liveness                  32833 non-null  float64\n",
      " 20  valence                   32833 non-null  float64\n",
      " 21  tempo                     32833 non-null  float64\n",
      " 22  duration_ms               32833 non-null  int64  \n",
      "dtypes: float64(9), int64(4), object(10)\n",
      "memory usage: 5.8+ MB\n",
      "None\n",
      "track_id                    0\n",
      "track_name                  5\n",
      "track_artist                5\n",
      "track_popularity            0\n",
      "track_album_id              0\n",
      "track_album_name            5\n",
      "track_album_release_date    0\n",
      "playlist_name               0\n",
      "playlist_id                 0\n",
      "playlist_genre              0\n",
      "playlist_subgenre           0\n",
      "danceability                0\n",
      "energy                      0\n",
      "key                         0\n",
      "loudness                    0\n",
      "mode                        0\n",
      "speechiness                 0\n",
      "acousticness                0\n",
      "instrumentalness            0\n",
      "liveness                    0\n",
      "valence                     0\n",
      "tempo                       0\n",
      "duration_ms                 0\n",
      "dtype: int64\n"
     ]
    }
   ],
   "source": [
    "import pandas as pd\n",
    "import numpy as np\n",
    "\n",
    "# Load dataset\n",
    "df = pd.read_csv('spotify_songs.csv')\n",
    "# Explore the data\n",
    "print(df.head())\n",
    "print(df.info())\n",
    "print(df.isnull().sum())\n"
   ]
  },
  {
   "cell_type": "code",
   "execution_count": 2,
   "metadata": {},
   "outputs": [],
   "source": [
    "from sklearn.preprocessing import MinMaxScaler\n",
    "\n",
    "# Drop unnecessary columns\n",
    "df = df.drop(columns=['track_album_id', 'playlist_id'])\n",
    "\n",
    "# Fill missing values\n",
    "df.fillna(0, inplace=True)\n",
    "\n",
    "# Normalize numerical features\n",
    "scaler = MinMaxScaler()\n",
    "numerical_cols = ['danceability', 'energy', 'loudness', 'tempo', 'duration_ms']\n",
    "df[numerical_cols] = scaler.fit_transform(df[numerical_cols])\n"
   ]
  },
  {
   "cell_type": "code",
   "execution_count": 8,
   "metadata": {},
   "outputs": [
    {
     "name": "stdout",
     "output_type": "stream",
     "text": [
      "['Memories - Dillon Francis Remix', 'Hola Señorita - Robin Schulz Remix', 'Hola Señorita - Robin Schulz Remix', 'Hola Señorita - Robin Schulz Remix', 'Tear Me Down (feat. Philip Rustad)']\n"
     ]
    },
    {
     "name": "stderr",
     "output_type": "stream",
     "text": [
      "c:\\Users\\vidya\\AppData\\Local\\Programs\\Python\\Python310\\lib\\site-packages\\sklearn\\base.py:493: UserWarning: X does not have valid feature names, but NearestNeighbors was fitted with feature names\n",
      "  warnings.warn(\n"
     ]
    }
   ],
   "source": [
    "from sklearn.neighbors import NearestNeighbors\n",
    "# Define features\n",
    "features = df[['danceability', 'energy', 'valence', 'tempo']]\n",
    "\n",
    "# Fit Nearest Neighbors model\n",
    "knn = NearestNeighbors(n_neighbors=6, metric='cosine', algorithm='auto')\n",
    "\n",
    "\n",
    "knn.fit(features)\n",
    "\n",
    "# Function to recommend songs\n",
    "def recommend_songs_ann(track_name, n=5):\n",
    "    # Find the index of the track\n",
    "    idx = df[df['track_name'] == track_name].index[0]\n",
    "    \n",
    "    # Find nearest neighbors\n",
    "    distances, indices = knn.kneighbors([features.iloc[idx]])\n",
    "    \n",
    "    # Get the top 'n' songs (excluding the input track itself)\n",
    "    top_songs = [df.iloc[i]['track_name'] for i in indices[0][1:n+1]]\n",
    "    return top_songs\n",
    "\n",
    "# Test the optimized recommendation function\n",
    "print(recommend_songs_ann('Memories - Dillon Francis Remix'))\n"
   ]
  },
  {
   "cell_type": "code",
   "execution_count": null,
   "metadata": {},
   "outputs": [],
   "source": []
  }
 ],
 "metadata": {
  "kernelspec": {
   "display_name": "Python 3",
   "language": "python",
   "name": "python3"
  },
  "language_info": {
   "codemirror_mode": {
    "name": "ipython",
    "version": 3
   },
   "file_extension": ".py",
   "mimetype": "text/x-python",
   "name": "python",
   "nbconvert_exporter": "python",
   "pygments_lexer": "ipython3",
   "version": "3.10.0"
  }
 },
 "nbformat": 4,
 "nbformat_minor": 2
}
